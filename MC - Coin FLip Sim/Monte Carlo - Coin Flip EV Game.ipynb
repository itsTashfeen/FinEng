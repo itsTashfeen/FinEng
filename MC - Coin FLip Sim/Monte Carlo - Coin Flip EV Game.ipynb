{
 "cells": [
  {
   "metadata": {
    "ExecuteTime": {
     "end_time": "2025-10-16T01:26:39.508682Z",
     "start_time": "2025-10-16T01:26:39.422616Z"
    }
   },
   "cell_type": "code",
   "source": [
    "import numpy as np\n",
    "import plotly.graph_objects as go\n",
    "from plotly.subplots import make_subplots\n",
    "\n",
    "COST = 1\n",
    "PAYOUT_HEADS = 3\n",
    "PAYOUT_TAILS = 0\n",
    "EV = (0.5 * PAYOUT_HEADS) * (0.5 * PAYOUT_TAILS) - COST\n",
    "NUM_FLIPS = 5\n",
    "NUM_SIMULATIONS = 1000\n",
    "\n",
    "def simulate_coin_flips(n_flips):\n",
    "    flips = np.random.randint(0, 2, n_flips)\n",
    "    profits = np.where(flips == 1, PAYOUT_HEADS - COST, -COST)\n",
    "    cumulative_profit = np.cumsum(profits)\n",
    "    return cumulative_profit\n",
    "\n",
    "print(f\"Running {NUM_SIMULATIONS} simulations with {NUM_FLIPS} flips each...\")\n",
    "all_simulations = []\n",
    "final_profits = []\n",
    "\n",
    "for i in range(NUM_SIMULATIONS):\n",
    "    cumulative_profit = simulate_coin_flips(NUM_FLIPS)\n",
    "    all_simulations.append(cumulative_profit)\n",
    "    final_profits.append(cumulative_profit[-1])\n",
    "\n",
    "all_simulations = np.array(all_simulations)\n",
    "final_profits = np.array(final_profits)\n",
    "\n",
    "avg_final_profit = np.mean(final_profits)\n",
    "theoretical_profit = EV * NUM_FLIPS\n",
    "profitable_sims = np.sum(final_profits > 0)\n",
    "profit_percentage = (profitable_sims / NUM_SIMULATIONS) * 100\n",
    "\n",
    "print(f\"\\n{'='*60}\")\n",
    "print(f\"RESULTS:\")\n",
    "print(f\"{'='*60}\")\n",
    "print(f\"Expected Value per flip: ${EV:.2f}\")\n",
    "print(f\"Theoretical profit after {NUM_FLIPS} flips: ${theoretical_profit:.2f}\")\n",
    "print(f\"Average profit across all simulations: ${avg_final_profit:.2f}\")\n",
    "print(f\"Profitable simulations: {profitable_sims}/{NUM_SIMULATIONS} ({profit_percentage:.1f}%)\")\n",
    "print(f\"Min profit: ${np.min(final_profits):.2f}\")\n",
    "print(f\"Max profit: ${np.max(final_profits):.2f}\")\n",
    "print(f\"{'='*60}\\n\")\n",
    "\n",
    "fig = make_subplots(\n",
    "    rows=2, cols=1,\n",
    "    subplot_titles=(\n",
    "        'Cumulative Profit Over Time (Multiple Simulations)',\n",
    "        'Distribution of Final Profits'\n",
    "    ),\n",
    "    vertical_spacing=0.12,\n",
    "    row_heights=[0.6, 0.4]\n",
    ")\n",
    "\n",
    "num_to_plot = min(20, NUM_SIMULATIONS)\n",
    "x_values = np.arange(NUM_FLIPS)\n",
    "\n",
    "for i in range(num_to_plot):\n",
    "    fig.add_trace(\n",
    "        go.Scatter(\n",
    "            x=x_values,\n",
    "            y=all_simulations[i],\n",
    "            mode='lines',\n",
    "            name=f'Sim {i+1}',\n",
    "            line=dict(width=1),\n",
    "            opacity=0.5,\n",
    "            showlegend=False\n",
    "        ),\n",
    "        row=1, col=1\n",
    "    )\n",
    "\n",
    "theoretical_line = EV * x_values\n",
    "fig.add_trace(\n",
    "    go.Scatter(\n",
    "        x=x_values,\n",
    "        y=theoretical_line,\n",
    "        mode='lines',\n",
    "        name='Expected Value',\n",
    "        line=dict(color='red', width=3, dash='dash'),\n",
    "        showlegend=True\n",
    "    ),\n",
    "    row=1, col=1\n",
    ")\n",
    "\n",
    "fig.add_hline(y=0, line_dash=\"dot\", line_color=\"gray\", opacity=0.5, row=1, col=1)\n",
    "\n",
    "fig.add_trace(\n",
    "    go.Histogram(\n",
    "        x=final_profits,\n",
    "        nbinsx=30,\n",
    "        name='Final Profits',\n",
    "        marker_color='lightblue',\n",
    "        showlegend=False\n",
    "    ),\n",
    "    row=2, col=1\n",
    ")\n",
    "\n",
    "fig.add_vline(\n",
    "    x=avg_final_profit,\n",
    "    line_dash=\"dash\",\n",
    "    line_color=\"blue\",\n",
    "    annotation_text=f\"Avg: ${avg_final_profit:.0f}\",\n",
    "    annotation_position=\"top\",\n",
    "    row=2, col=1\n",
    ")\n",
    "\n",
    "fig.add_vline(\n",
    "    x=theoretical_profit,\n",
    "    line_dash=\"dash\",\n",
    "    line_color=\"red\",\n",
    "    annotation_text=f\"Expected: ${theoretical_profit:.0f}\",\n",
    "    annotation_position=\"top\",\n",
    "    row=2, col=1\n",
    ")\n",
    "\n",
    "fig.update_xaxes(title_text=\"Number of Flips\", row=1, col=1)\n",
    "fig.update_yaxes(title_text=\"Cumulative Profit ($)\", row=1, col=1)\n",
    "fig.update_xaxes(title_text=\"Final Profit ($)\", row=2, col=1)\n",
    "fig.update_yaxes(title_text=\"Frequency\", row=2, col=1)\n",
    "\n",
    "fig.update_layout(\n",
    "    height=900,\n",
    "    title_text=f\"Monte Carlo Simulation: Coin Flip Game<br><sub>Cost: ${COST} | Heads Win: ${PAYOUT_HEADS} | EV: ${EV}/flip | {NUM_SIMULATIONS} simulations × {NUM_FLIPS} flips</sub>\",\n",
    "    showlegend=True,\n",
    "    hovermode='closest'\n",
    ")\n",
    "\n",
    "fig.show()"
   ],
   "id": "fa9d84fa943f3511",
   "outputs": [
    {
     "name": "stdout",
     "output_type": "stream",
     "text": [
      "Running 1000 simulations with 5 flips each...\n",
      "\n",
      "============================================================\n",
      "RESULTS:\n",
      "============================================================\n",
      "Expected Value per flip: $-1.00\n",
      "Theoretical profit after 5 flips: $-5.00\n",
      "Average profit across all simulations: $2.59\n",
      "Profitable simulations: 836/1000 (83.6%)\n",
      "Min profit: $-5.00\n",
      "Max profit: $10.00\n",
      "============================================================\n",
      "\n"
     ]
    },
    {
     "data": {
      "application/vnd.plotly.v1+json": {
       "data": [
        {
         "line": {
          "width": 1
         },
         "mode": "lines",
         "name": "Sim 1",
         "opacity": 0.5,
         "showlegend": false,
         "x": {
          "dtype": "i1",
          "bdata": "AAECAwQ="
         },
         "y": {
          "dtype": "i1",
          "bdata": "AgEDAgE="
         },
         "type": "scatter",
         "xaxis": "x",
         "yaxis": "y"
        },
        {
         "line": {
          "width": 1
         },
         "mode": "lines",
         "name": "Sim 2",
         "opacity": 0.5,
         "showlegend": false,
         "x": {
          "dtype": "i1",
          "bdata": "AAECAwQ="
         },
         "y": {
          "dtype": "i1",
          "bdata": "/wEAAgE="
         },
         "type": "scatter",
         "xaxis": "x",
         "yaxis": "y"
        },
        {
         "line": {
          "width": 1
         },
         "mode": "lines",
         "name": "Sim 3",
         "opacity": 0.5,
         "showlegend": false,
         "x": {
          "dtype": "i1",
          "bdata": "AAECAwQ="
         },
         "y": {
          "dtype": "i1",
          "bdata": "//4AAgE="
         },
         "type": "scatter",
         "xaxis": "x",
         "yaxis": "y"
        },
        {
         "line": {
          "width": 1
         },
         "mode": "lines",
         "name": "Sim 4",
         "opacity": 0.5,
         "showlegend": false,
         "x": {
          "dtype": "i1",
          "bdata": "AAECAwQ="
         },
         "y": {
          "dtype": "i1",
          "bdata": "AgEDBQc="
         },
         "type": "scatter",
         "xaxis": "x",
         "yaxis": "y"
        },
        {
         "line": {
          "width": 1
         },
         "mode": "lines",
         "name": "Sim 5",
         "opacity": 0.5,
         "showlegend": false,
         "x": {
          "dtype": "i1",
          "bdata": "AAECAwQ="
         },
         "y": {
          "dtype": "i1",
          "bdata": "AgEDBQQ="
         },
         "type": "scatter",
         "xaxis": "x",
         "yaxis": "y"
        },
        {
         "line": {
          "width": 1
         },
         "mode": "lines",
         "name": "Sim 6",
         "opacity": 0.5,
         "showlegend": false,
         "x": {
          "dtype": "i1",
          "bdata": "AAECAwQ="
         },
         "y": {
          "dtype": "i1",
          "bdata": "AgEAAgE="
         },
         "type": "scatter",
         "xaxis": "x",
         "yaxis": "y"
        },
        {
         "line": {
          "width": 1
         },
         "mode": "lines",
         "name": "Sim 7",
         "opacity": 0.5,
         "showlegend": false,
         "x": {
          "dtype": "i1",
          "bdata": "AAECAwQ="
         },
         "y": {
          "dtype": "i1",
          "bdata": "/wEA//4="
         },
         "type": "scatter",
         "xaxis": "x",
         "yaxis": "y"
        },
        {
         "line": {
          "width": 1
         },
         "mode": "lines",
         "name": "Sim 8",
         "opacity": 0.5,
         "showlegend": false,
         "x": {
          "dtype": "i1",
          "bdata": "AAECAwQ="
         },
         "y": {
          "dtype": "i1",
          "bdata": "AgEA/wE="
         },
         "type": "scatter",
         "xaxis": "x",
         "yaxis": "y"
        },
        {
         "line": {
          "width": 1
         },
         "mode": "lines",
         "name": "Sim 9",
         "opacity": 0.5,
         "showlegend": false,
         "x": {
          "dtype": "i1",
          "bdata": "AAECAwQ="
         },
         "y": {
          "dtype": "i1",
          "bdata": "AgQDBQc="
         },
         "type": "scatter",
         "xaxis": "x",
         "yaxis": "y"
        },
        {
         "line": {
          "width": 1
         },
         "mode": "lines",
         "name": "Sim 10",
         "opacity": 0.5,
         "showlegend": false,
         "x": {
          "dtype": "i1",
          "bdata": "AAECAwQ="
         },
         "y": {
          "dtype": "i1",
          "bdata": "/wEA//4="
         },
         "type": "scatter",
         "xaxis": "x",
         "yaxis": "y"
        },
        {
         "line": {
          "width": 1
         },
         "mode": "lines",
         "name": "Sim 11",
         "opacity": 0.5,
         "showlegend": false,
         "x": {
          "dtype": "i1",
          "bdata": "AAECAwQ="
         },
         "y": {
          "dtype": "i1",
          "bdata": "AgEDAgQ="
         },
         "type": "scatter",
         "xaxis": "x",
         "yaxis": "y"
        },
        {
         "line": {
          "width": 1
         },
         "mode": "lines",
         "name": "Sim 12",
         "opacity": 0.5,
         "showlegend": false,
         "x": {
          "dtype": "i1",
          "bdata": "AAECAwQ="
         },
         "y": {
          "dtype": "i1",
          "bdata": "AgQDAgE="
         },
         "type": "scatter",
         "xaxis": "x",
         "yaxis": "y"
        },
        {
         "line": {
          "width": 1
         },
         "mode": "lines",
         "name": "Sim 13",
         "opacity": 0.5,
         "showlegend": false,
         "x": {
          "dtype": "i1",
          "bdata": "AAECAwQ="
         },
         "y": {
          "dtype": "i1",
          "bdata": "/wEA/wE="
         },
         "type": "scatter",
         "xaxis": "x",
         "yaxis": "y"
        },
        {
         "line": {
          "width": 1
         },
         "mode": "lines",
         "name": "Sim 14",
         "opacity": 0.5,
         "showlegend": false,
         "x": {
          "dtype": "i1",
          "bdata": "AAECAwQ="
         },
         "y": {
          "dtype": "i1",
          "bdata": "//79/Ps="
         },
         "type": "scatter",
         "xaxis": "x",
         "yaxis": "y"
        },
        {
         "line": {
          "width": 1
         },
         "mode": "lines",
         "name": "Sim 15",
         "opacity": 0.5,
         "showlegend": false,
         "x": {
          "dtype": "i1",
          "bdata": "AAECAwQ="
         },
         "y": {
          "dtype": "i1",
          "bdata": "/wEA/wE="
         },
         "type": "scatter",
         "xaxis": "x",
         "yaxis": "y"
        },
        {
         "line": {
          "width": 1
         },
         "mode": "lines",
         "name": "Sim 16",
         "opacity": 0.5,
         "showlegend": false,
         "x": {
          "dtype": "i1",
          "bdata": "AAECAwQ="
         },
         "y": {
          "dtype": "i1",
          "bdata": "AgQGCAc="
         },
         "type": "scatter",
         "xaxis": "x",
         "yaxis": "y"
        },
        {
         "line": {
          "width": 1
         },
         "mode": "lines",
         "name": "Sim 17",
         "opacity": 0.5,
         "showlegend": false,
         "x": {
          "dtype": "i1",
          "bdata": "AAECAwQ="
         },
         "y": {
          "dtype": "i1",
          "bdata": "AgQDAgE="
         },
         "type": "scatter",
         "xaxis": "x",
         "yaxis": "y"
        },
        {
         "line": {
          "width": 1
         },
         "mode": "lines",
         "name": "Sim 18",
         "opacity": 0.5,
         "showlegend": false,
         "x": {
          "dtype": "i1",
          "bdata": "AAECAwQ="
         },
         "y": {
          "dtype": "i1",
          "bdata": "/wEA//4="
         },
         "type": "scatter",
         "xaxis": "x",
         "yaxis": "y"
        },
        {
         "line": {
          "width": 1
         },
         "mode": "lines",
         "name": "Sim 19",
         "opacity": 0.5,
         "showlegend": false,
         "x": {
          "dtype": "i1",
          "bdata": "AAECAwQ="
         },
         "y": {
          "dtype": "i1",
          "bdata": "AgQGCAc="
         },
         "type": "scatter",
         "xaxis": "x",
         "yaxis": "y"
        },
        {
         "line": {
          "width": 1
         },
         "mode": "lines",
         "name": "Sim 20",
         "opacity": 0.5,
         "showlegend": false,
         "x": {
          "dtype": "i1",
          "bdata": "AAECAwQ="
         },
         "y": {
          "dtype": "i1",
          "bdata": "AgQGBQQ="
         },
         "type": "scatter",
         "xaxis": "x",
         "yaxis": "y"
        },
        {
         "line": {
          "color": "red",
          "dash": "dash",
          "width": 3
         },
         "mode": "lines",
         "name": "Expected Value",
         "showlegend": true,
         "x": {
          "dtype": "i1",
          "bdata": "AAECAwQ="
         },
         "y": {
          "dtype": "f8",
          "bdata": "AAAAAAAAAIAAAAAAAADwvwAAAAAAAADAAAAAAAAACMAAAAAAAAAQwA=="
         },
         "type": "scatter",
         "xaxis": "x",
         "yaxis": "y"
        },
        {
         "marker": {
          "color": "lightblue"
         },
         "name": "Final Profits",
         "nbinsx": 30,
         "showlegend": false,
         "x": {
          "dtype": "i1",
          "bdata": "AQEBBwQB/gEH/gQBAfsBBwH+BwQHAQcBBAEBBAEBBAEE/gEE/v4HBwQB/v4BAf7+BAEEBAQEBwEH/gQE/gcE/gEEBAQHBAQEBwQBBAH+BwcK/gT+BAEECgEHAQf+/gcBBAQBAQQHAQQEBAEBAQEEBwEB/gEEBwT+CgEEBAEEAQcHAQH+BAcB/gcBBP4BBAEEAQEHBwQEAQEEBAoBAQQEAf7+AQH+AQcEAQEBBAEEAQEBBP7+BAEHAQH+BwEHAQEBBwQHBAcBAQQEBwf+AQQEBwEHBAEHBAQBBwEKBAT+CgQBBwQEBAoKBP4E/goBBAoE+wEEAQQBBwT+BwQE/gEKBAcBAQEB/gf7AQcHBAH+BwEBBAEBAQoEBP4EBAcE+wEHAQQEAQQB+/sBBwEBBAEBBwoE/gcEAQEEBAf+AQEEBP4BCgEE/gT+AQQBAf4HBAoBAQQKBAEBAQQEAQQEBwf7BAEBAQQEBAT+BP4BB/7+BAT+Af4EBwQH/gEEBAT+B/4HBAEBAQQEBAH7BwH+/gQEBAEEBAEHAQcEBAEBBAEBBAQHAQQBBAQBAQcEAQEH/gQEAf4BBAH+AfsBBAT7BwEE/gEEBAQHB/sBAQf+BAQEBwQEBAf7AQQBBAH+BAEEAQQB+wQEAQEHBAcB/gcEAQT+BAEB/v4HBAEEBP4HBAEBAQT7/v4E/gEBAf4HBwQBBAEEBAEBBAQEAfsEAQQBAf4EBP4B/gEBAQf+BwQBBwT+BwQEBAQEBwH+AQQEBAQE/v4BAQEBAf4HCgEECgcHBP4EBAQEBwEHAQcEBP4H/gQH/gEEBAQHBAEBBAEBAQQBCgQEAQH7Cv4E/gQB/gQBBwT+BwQHAf4HBAcK/gcBBAEH/gH+BAQEAQEEAQQE+wQEBAQEBPsE/gQBBPv++wQE+wcBBwQEBwEHAQEE/gQB/gQEAQQHBwH+BwQBAQEHBAQBAQcE/gEHAQEEBAEKBAEHBAQEBPsB/gEBBAH7BAT+AQT+BwEHAQQE/gEBBwEEBwH+CgEEBAEBBAQHCgEBAQcBBwEBAQcE/gcEBwcHBP7+BAcEB/4BBwcBBwQBAQEKB/4B/gH7AQEE/gEBBAEBAQQEBAEHBAQBAQQEBwQBBAH+BAQEAQQBBP4BBP77+wQEBAQHAQoBAf4BAQcBAQQEBAcBAQEBBAT+/gQKBAEEBAcBBwoBAQoBAQEHBAH+/gT+BAEEBAcBBAEB/v4BAQEEBP4BAQQEBwcBBAf+AQQBAQEHAf4EBAcBBwT+Af4BB/sEAQH7/v7+BAcH/gQEBP4BAQT7B/7+BP4BAQEHBAQEBAEEAQEEAQcBAQcEAf7+BA=="
         },
         "type": "histogram",
         "xaxis": "x2",
         "yaxis": "y2"
        }
       ],
       "layout": {
        "template": {
         "data": {
          "histogram2dcontour": [
           {
            "type": "histogram2dcontour",
            "colorbar": {
             "outlinewidth": 0,
             "ticks": ""
            },
            "colorscale": [
             [
              0.0,
              "#0d0887"
             ],
             [
              0.1111111111111111,
              "#46039f"
             ],
             [
              0.2222222222222222,
              "#7201a8"
             ],
             [
              0.3333333333333333,
              "#9c179e"
             ],
             [
              0.4444444444444444,
              "#bd3786"
             ],
             [
              0.5555555555555556,
              "#d8576b"
             ],
             [
              0.6666666666666666,
              "#ed7953"
             ],
             [
              0.7777777777777778,
              "#fb9f3a"
             ],
             [
              0.8888888888888888,
              "#fdca26"
             ],
             [
              1.0,
              "#f0f921"
             ]
            ]
           }
          ],
          "choropleth": [
           {
            "type": "choropleth",
            "colorbar": {
             "outlinewidth": 0,
             "ticks": ""
            }
           }
          ],
          "histogram2d": [
           {
            "type": "histogram2d",
            "colorbar": {
             "outlinewidth": 0,
             "ticks": ""
            },
            "colorscale": [
             [
              0.0,
              "#0d0887"
             ],
             [
              0.1111111111111111,
              "#46039f"
             ],
             [
              0.2222222222222222,
              "#7201a8"
             ],
             [
              0.3333333333333333,
              "#9c179e"
             ],
             [
              0.4444444444444444,
              "#bd3786"
             ],
             [
              0.5555555555555556,
              "#d8576b"
             ],
             [
              0.6666666666666666,
              "#ed7953"
             ],
             [
              0.7777777777777778,
              "#fb9f3a"
             ],
             [
              0.8888888888888888,
              "#fdca26"
             ],
             [
              1.0,
              "#f0f921"
             ]
            ]
           }
          ],
          "heatmap": [
           {
            "type": "heatmap",
            "colorbar": {
             "outlinewidth": 0,
             "ticks": ""
            },
            "colorscale": [
             [
              0.0,
              "#0d0887"
             ],
             [
              0.1111111111111111,
              "#46039f"
             ],
             [
              0.2222222222222222,
              "#7201a8"
             ],
             [
              0.3333333333333333,
              "#9c179e"
             ],
             [
              0.4444444444444444,
              "#bd3786"
             ],
             [
              0.5555555555555556,
              "#d8576b"
             ],
             [
              0.6666666666666666,
              "#ed7953"
             ],
             [
              0.7777777777777778,
              "#fb9f3a"
             ],
             [
              0.8888888888888888,
              "#fdca26"
             ],
             [
              1.0,
              "#f0f921"
             ]
            ]
           }
          ],
          "contourcarpet": [
           {
            "type": "contourcarpet",
            "colorbar": {
             "outlinewidth": 0,
             "ticks": ""
            }
           }
          ],
          "contour": [
           {
            "type": "contour",
            "colorbar": {
             "outlinewidth": 0,
             "ticks": ""
            },
            "colorscale": [
             [
              0.0,
              "#0d0887"
             ],
             [
              0.1111111111111111,
              "#46039f"
             ],
             [
              0.2222222222222222,
              "#7201a8"
             ],
             [
              0.3333333333333333,
              "#9c179e"
             ],
             [
              0.4444444444444444,
              "#bd3786"
             ],
             [
              0.5555555555555556,
              "#d8576b"
             ],
             [
              0.6666666666666666,
              "#ed7953"
             ],
             [
              0.7777777777777778,
              "#fb9f3a"
             ],
             [
              0.8888888888888888,
              "#fdca26"
             ],
             [
              1.0,
              "#f0f921"
             ]
            ]
           }
          ],
          "surface": [
           {
            "type": "surface",
            "colorbar": {
             "outlinewidth": 0,
             "ticks": ""
            },
            "colorscale": [
             [
              0.0,
              "#0d0887"
             ],
             [
              0.1111111111111111,
              "#46039f"
             ],
             [
              0.2222222222222222,
              "#7201a8"
             ],
             [
              0.3333333333333333,
              "#9c179e"
             ],
             [
              0.4444444444444444,
              "#bd3786"
             ],
             [
              0.5555555555555556,
              "#d8576b"
             ],
             [
              0.6666666666666666,
              "#ed7953"
             ],
             [
              0.7777777777777778,
              "#fb9f3a"
             ],
             [
              0.8888888888888888,
              "#fdca26"
             ],
             [
              1.0,
              "#f0f921"
             ]
            ]
           }
          ],
          "mesh3d": [
           {
            "type": "mesh3d",
            "colorbar": {
             "outlinewidth": 0,
             "ticks": ""
            }
           }
          ],
          "scatter": [
           {
            "marker": {
             "line": {
              "color": "#283442"
             }
            },
            "type": "scatter"
           }
          ],
          "parcoords": [
           {
            "type": "parcoords",
            "line": {
             "colorbar": {
              "outlinewidth": 0,
              "ticks": ""
             }
            }
           }
          ],
          "scatterpolargl": [
           {
            "type": "scatterpolargl",
            "marker": {
             "colorbar": {
              "outlinewidth": 0,
              "ticks": ""
             }
            }
           }
          ],
          "bar": [
           {
            "error_x": {
             "color": "#f2f5fa"
            },
            "error_y": {
             "color": "#f2f5fa"
            },
            "marker": {
             "line": {
              "color": "rgb(17,17,17)",
              "width": 0.5
             },
             "pattern": {
              "fillmode": "overlay",
              "size": 10,
              "solidity": 0.2
             }
            },
            "type": "bar"
           }
          ],
          "scattergeo": [
           {
            "type": "scattergeo",
            "marker": {
             "colorbar": {
              "outlinewidth": 0,
              "ticks": ""
             }
            }
           }
          ],
          "scatterpolar": [
           {
            "type": "scatterpolar",
            "marker": {
             "colorbar": {
              "outlinewidth": 0,
              "ticks": ""
             }
            }
           }
          ],
          "histogram": [
           {
            "marker": {
             "pattern": {
              "fillmode": "overlay",
              "size": 10,
              "solidity": 0.2
             }
            },
            "type": "histogram"
           }
          ],
          "scattergl": [
           {
            "marker": {
             "line": {
              "color": "#283442"
             }
            },
            "type": "scattergl"
           }
          ],
          "scatter3d": [
           {
            "type": "scatter3d",
            "line": {
             "colorbar": {
              "outlinewidth": 0,
              "ticks": ""
             }
            },
            "marker": {
             "colorbar": {
              "outlinewidth": 0,
              "ticks": ""
             }
            }
           }
          ],
          "scattermap": [
           {
            "type": "scattermap",
            "marker": {
             "colorbar": {
              "outlinewidth": 0,
              "ticks": ""
             }
            }
           }
          ],
          "scattermapbox": [
           {
            "type": "scattermapbox",
            "marker": {
             "colorbar": {
              "outlinewidth": 0,
              "ticks": ""
             }
            }
           }
          ],
          "scatterternary": [
           {
            "type": "scatterternary",
            "marker": {
             "colorbar": {
              "outlinewidth": 0,
              "ticks": ""
             }
            }
           }
          ],
          "scattercarpet": [
           {
            "type": "scattercarpet",
            "marker": {
             "colorbar": {
              "outlinewidth": 0,
              "ticks": ""
             }
            }
           }
          ],
          "carpet": [
           {
            "aaxis": {
             "endlinecolor": "#A2B1C6",
             "gridcolor": "#506784",
             "linecolor": "#506784",
             "minorgridcolor": "#506784",
             "startlinecolor": "#A2B1C6"
            },
            "baxis": {
             "endlinecolor": "#A2B1C6",
             "gridcolor": "#506784",
             "linecolor": "#506784",
             "minorgridcolor": "#506784",
             "startlinecolor": "#A2B1C6"
            },
            "type": "carpet"
           }
          ],
          "table": [
           {
            "cells": {
             "fill": {
              "color": "#506784"
             },
             "line": {
              "color": "rgb(17,17,17)"
             }
            },
            "header": {
             "fill": {
              "color": "#2a3f5f"
             },
             "line": {
              "color": "rgb(17,17,17)"
             }
            },
            "type": "table"
           }
          ],
          "barpolar": [
           {
            "marker": {
             "line": {
              "color": "rgb(17,17,17)",
              "width": 0.5
             },
             "pattern": {
              "fillmode": "overlay",
              "size": 10,
              "solidity": 0.2
             }
            },
            "type": "barpolar"
           }
          ],
          "pie": [
           {
            "automargin": true,
            "type": "pie"
           }
          ]
         },
         "layout": {
          "autotypenumbers": "strict",
          "colorway": [
           "#636efa",
           "#EF553B",
           "#00cc96",
           "#ab63fa",
           "#FFA15A",
           "#19d3f3",
           "#FF6692",
           "#B6E880",
           "#FF97FF",
           "#FECB52"
          ],
          "font": {
           "color": "#f2f5fa"
          },
          "hovermode": "closest",
          "hoverlabel": {
           "align": "left"
          },
          "paper_bgcolor": "rgb(17,17,17)",
          "plot_bgcolor": "rgb(17,17,17)",
          "polar": {
           "bgcolor": "rgb(17,17,17)",
           "angularaxis": {
            "gridcolor": "#506784",
            "linecolor": "#506784",
            "ticks": ""
           },
           "radialaxis": {
            "gridcolor": "#506784",
            "linecolor": "#506784",
            "ticks": ""
           }
          },
          "ternary": {
           "bgcolor": "rgb(17,17,17)",
           "aaxis": {
            "gridcolor": "#506784",
            "linecolor": "#506784",
            "ticks": ""
           },
           "baxis": {
            "gridcolor": "#506784",
            "linecolor": "#506784",
            "ticks": ""
           },
           "caxis": {
            "gridcolor": "#506784",
            "linecolor": "#506784",
            "ticks": ""
           }
          },
          "coloraxis": {
           "colorbar": {
            "outlinewidth": 0,
            "ticks": ""
           }
          },
          "colorscale": {
           "sequential": [
            [
             0.0,
             "#0d0887"
            ],
            [
             0.1111111111111111,
             "#46039f"
            ],
            [
             0.2222222222222222,
             "#7201a8"
            ],
            [
             0.3333333333333333,
             "#9c179e"
            ],
            [
             0.4444444444444444,
             "#bd3786"
            ],
            [
             0.5555555555555556,
             "#d8576b"
            ],
            [
             0.6666666666666666,
             "#ed7953"
            ],
            [
             0.7777777777777778,
             "#fb9f3a"
            ],
            [
             0.8888888888888888,
             "#fdca26"
            ],
            [
             1.0,
             "#f0f921"
            ]
           ],
           "sequentialminus": [
            [
             0.0,
             "#0d0887"
            ],
            [
             0.1111111111111111,
             "#46039f"
            ],
            [
             0.2222222222222222,
             "#7201a8"
            ],
            [
             0.3333333333333333,
             "#9c179e"
            ],
            [
             0.4444444444444444,
             "#bd3786"
            ],
            [
             0.5555555555555556,
             "#d8576b"
            ],
            [
             0.6666666666666666,
             "#ed7953"
            ],
            [
             0.7777777777777778,
             "#fb9f3a"
            ],
            [
             0.8888888888888888,
             "#fdca26"
            ],
            [
             1.0,
             "#f0f921"
            ]
           ],
           "diverging": [
            [
             0,
             "#8e0152"
            ],
            [
             0.1,
             "#c51b7d"
            ],
            [
             0.2,
             "#de77ae"
            ],
            [
             0.3,
             "#f1b6da"
            ],
            [
             0.4,
             "#fde0ef"
            ],
            [
             0.5,
             "#f7f7f7"
            ],
            [
             0.6,
             "#e6f5d0"
            ],
            [
             0.7,
             "#b8e186"
            ],
            [
             0.8,
             "#7fbc41"
            ],
            [
             0.9,
             "#4d9221"
            ],
            [
             1,
             "#276419"
            ]
           ]
          },
          "xaxis": {
           "gridcolor": "#283442",
           "linecolor": "#506784",
           "ticks": "",
           "title": {
            "standoff": 15
           },
           "zerolinecolor": "#283442",
           "automargin": true,
           "zerolinewidth": 2
          },
          "yaxis": {
           "gridcolor": "#283442",
           "linecolor": "#506784",
           "ticks": "",
           "title": {
            "standoff": 15
           },
           "zerolinecolor": "#283442",
           "automargin": true,
           "zerolinewidth": 2
          },
          "scene": {
           "xaxis": {
            "backgroundcolor": "rgb(17,17,17)",
            "gridcolor": "#506784",
            "linecolor": "#506784",
            "showbackground": true,
            "ticks": "",
            "zerolinecolor": "#C8D4E3",
            "gridwidth": 2
           },
           "yaxis": {
            "backgroundcolor": "rgb(17,17,17)",
            "gridcolor": "#506784",
            "linecolor": "#506784",
            "showbackground": true,
            "ticks": "",
            "zerolinecolor": "#C8D4E3",
            "gridwidth": 2
           },
           "zaxis": {
            "backgroundcolor": "rgb(17,17,17)",
            "gridcolor": "#506784",
            "linecolor": "#506784",
            "showbackground": true,
            "ticks": "",
            "zerolinecolor": "#C8D4E3",
            "gridwidth": 2
           }
          },
          "shapedefaults": {
           "line": {
            "color": "#f2f5fa"
           }
          },
          "annotationdefaults": {
           "arrowcolor": "#f2f5fa",
           "arrowhead": 0,
           "arrowwidth": 1
          },
          "geo": {
           "bgcolor": "rgb(17,17,17)",
           "landcolor": "rgb(17,17,17)",
           "subunitcolor": "#506784",
           "showland": true,
           "showlakes": true,
           "lakecolor": "rgb(17,17,17)"
          },
          "title": {
           "x": 0.05
          },
          "updatemenudefaults": {
           "bgcolor": "#506784",
           "borderwidth": 0
          },
          "sliderdefaults": {
           "bgcolor": "#C8D4E3",
           "borderwidth": 1,
           "bordercolor": "rgb(17,17,17)",
           "tickwidth": 0
          },
          "mapbox": {
           "style": "dark"
          }
         }
        },
        "xaxis": {
         "anchor": "y",
         "domain": [
          0.0,
          1.0
         ],
         "title": {
          "text": "Number of Flips"
         }
        },
        "yaxis": {
         "anchor": "x",
         "domain": [
          0.47200000000000003,
          1.0
         ],
         "title": {
          "text": "Cumulative Profit ($)"
         }
        },
        "xaxis2": {
         "anchor": "y2",
         "domain": [
          0.0,
          1.0
         ],
         "title": {
          "text": "Final Profit ($)"
         }
        },
        "yaxis2": {
         "anchor": "x2",
         "domain": [
          0.0,
          0.35200000000000004
         ],
         "title": {
          "text": "Frequency"
         }
        },
        "annotations": [
         {
          "font": {
           "size": 16
          },
          "showarrow": false,
          "text": "Cumulative Profit Over Time (Multiple Simulations)",
          "x": 0.5,
          "xanchor": "center",
          "xref": "paper",
          "y": 1.0,
          "yanchor": "bottom",
          "yref": "paper"
         },
         {
          "font": {
           "size": 16
          },
          "showarrow": false,
          "text": "Distribution of Final Profits",
          "x": 0.5,
          "xanchor": "center",
          "xref": "paper",
          "y": 0.35200000000000004,
          "yanchor": "bottom",
          "yref": "paper"
         },
         {
          "showarrow": false,
          "text": "Avg: $3",
          "x": 2.587,
          "xanchor": "center",
          "xref": "x2",
          "y": 1,
          "yanchor": "bottom",
          "yref": "y2 domain"
         },
         {
          "showarrow": false,
          "text": "Expected: $-5",
          "x": -5.0,
          "xanchor": "center",
          "xref": "x2",
          "y": 1,
          "yanchor": "bottom",
          "yref": "y2 domain"
         }
        ],
        "shapes": [
         {
          "line": {
           "color": "gray",
           "dash": "dot"
          },
          "opacity": 0.5,
          "type": "line",
          "x0": 0,
          "x1": 1,
          "xref": "x domain",
          "y0": 0,
          "y1": 0,
          "yref": "y"
         },
         {
          "line": {
           "color": "blue",
           "dash": "dash"
          },
          "type": "line",
          "x0": 2.587,
          "x1": 2.587,
          "xref": "x2",
          "y0": 0,
          "y1": 1,
          "yref": "y2 domain"
         },
         {
          "line": {
           "color": "red",
           "dash": "dash"
          },
          "type": "line",
          "x0": -5.0,
          "x1": -5.0,
          "xref": "x2",
          "y0": 0,
          "y1": 1,
          "yref": "y2 domain"
         }
        ],
        "title": {
         "text": "Monte Carlo Simulation: Coin Flip Game<br><sub>Cost: $1 | Heads Win: $3 | EV: $-1.0/flip | 1000 simulations × 5 flips</sub>"
        },
        "height": 900,
        "showlegend": true,
        "hovermode": "closest"
       },
       "config": {
        "plotlyServerURL": "https://plot.ly"
       }
      }
     },
     "metadata": {},
     "output_type": "display_data"
    }
   ],
   "execution_count": 14
  },
  {
   "metadata": {},
   "cell_type": "code",
   "outputs": [],
   "execution_count": null,
   "source": "",
   "id": "f4db3e9d63792db3"
  },
  {
   "metadata": {},
   "cell_type": "code",
   "outputs": [],
   "execution_count": null,
   "source": "",
   "id": "e315634b059b2d6d"
  },
  {
   "metadata": {},
   "cell_type": "code",
   "outputs": [],
   "execution_count": null,
   "source": "",
   "id": "236d1778e46f5461"
  }
 ],
 "metadata": {
  "kernelspec": {
   "display_name": "Python 3",
   "language": "python",
   "name": "python3"
  },
  "language_info": {
   "codemirror_mode": {
    "name": "ipython",
    "version": 2
   },
   "file_extension": ".py",
   "mimetype": "text/x-python",
   "name": "python",
   "nbconvert_exporter": "python",
   "pygments_lexer": "ipython2",
   "version": "2.7.6"
  }
 },
 "nbformat": 4,
 "nbformat_minor": 5
}
